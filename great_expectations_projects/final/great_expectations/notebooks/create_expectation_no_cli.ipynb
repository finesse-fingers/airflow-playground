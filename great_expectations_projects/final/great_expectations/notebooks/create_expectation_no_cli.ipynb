{
 "cells": [
  {
   "cell_type": "code",
   "execution_count": null,
   "metadata": {},
   "outputs": [],
   "source": [
    "import great_expectations as ge\n",
    "from great_expectations.core.batch import BatchRequest\n"
   ]
  },
  {
   "cell_type": "code",
   "execution_count": null,
   "metadata": {},
   "outputs": [],
   "source": [
    "suite_root_path = \"../\"\n",
    "context = ge.data_context.DataContext(context_root_dir=suite_root_path)\n"
   ]
  },
  {
   "cell_type": "code",
   "execution_count": null,
   "metadata": {},
   "outputs": [],
   "source": [
    "suite_name = 'npi_small_file.no_cli'\n",
    "suite = context.create_expectation_suite(\n",
    "    suite_name, overwrite_existing=True  # Configure these parameters for your needs\n",
    ")\n"
   ]
  },
  {
   "cell_type": "code",
   "execution_count": null,
   "metadata": {},
   "outputs": [],
   "source": [
    "context.list_expectation_suites()\n"
   ]
  },
  {
   "cell_type": "code",
   "execution_count": null,
   "metadata": {},
   "outputs": [],
   "source": [
    "batch_kwargs_file = {\n",
    "    \"path\": \"../../../../data/npi_small.csv\",\n",
    "    'datasource': 'input_files'\n",
    "}\n",
    "batch = context.get_batch(batch_kwargs_file, suite)\n"
   ]
  },
  {
   "cell_type": "code",
   "execution_count": null,
   "metadata": {},
   "outputs": [],
   "source": [
    "# Start creating Expectations here\n",
    "batch.expect_column_values_to_not_be_null('NPI')\n",
    "batch.expect_table_columns_to_match_ordered_list([\n",
    "    \"NPI\",\n",
    "    \"Entity_Type_Code\",\n",
    "    \"Organization_Name\",\n",
    "    \"Last_Name\",\n",
    "    \"First_Name\",\n",
    "    \"State\",\n",
    "    \"Taxonomy_Code\"])\n"
   ]
  },
  {
   "cell_type": "code",
   "execution_count": null,
   "metadata": {},
   "outputs": [],
   "source": [
    "# And save the final state to JSON\n",
    "batch.save_expectation_suite(discard_failed_expectations=False)\n"
   ]
  }
 ],
 "metadata": {
  "interpreter": {
   "hash": "31f2aee4e71d21fbe5cf8b01ff0e069b9275f58929596ceb00d14d90e3e16cd6"
  },
  "kernelspec": {
   "display_name": "Python 3.8.2 64-bit",
   "name": "python3"
  },
  "language_info": {
   "name": "python",
   "version": ""
  },
  "orig_nbformat": 4
 },
 "nbformat": 4,
 "nbformat_minor": 2
}