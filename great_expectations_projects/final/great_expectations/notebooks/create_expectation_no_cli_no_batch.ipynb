{
 "cells": [
  {
   "cell_type": "code",
   "execution_count": null,
   "metadata": {},
   "outputs": [],
   "source": [
    "import great_expectations as ge\n",
    "from great_expectations.core import ExpectationConfiguration\n"
   ]
  },
  {
   "cell_type": "code",
   "execution_count": null,
   "metadata": {},
   "outputs": [],
   "source": [
    "root_path = \"../\"\n",
    "context = ge.data_context.DataContext(context_root_dir=root_path)\n"
   ]
  },
  {
   "cell_type": "code",
   "execution_count": null,
   "metadata": {},
   "outputs": [],
   "source": [
    "suite_name = 'npi_small_file.custom'\n",
    "suite = context.create_expectation_suite(\n",
    "    suite_name, overwrite_existing=True  # Configure these parameters for your needs\n",
    ")\n"
   ]
  },
  {
   "cell_type": "code",
   "execution_count": null,
   "metadata": {},
   "outputs": [],
   "source": [
    "context.list_expectation_suites()\n"
   ]
  },
  {
   "cell_type": "code",
   "execution_count": null,
   "metadata": {},
   "outputs": [],
   "source": [
    "# Create an Expectation\n",
    "expectation_configuration = ExpectationConfiguration(\n",
    "    # Name of expectation type being added\n",
    "    expectation_type=\"expect_table_columns_to_match_ordered_list\",\n",
    "    # These are the arguments of the expectation\n",
    "    # The keys allowed in the dictionary are Parameters and\n",
    "    # Keyword Arguments of this Expectation Type\n",
    "    kwargs={\n",
    "        \"column_list\": [\n",
    "            \"NPI\", \"Entity_Type_Code\", \"Organization_Name\", \"Last_Name\", \"First_Name\", \"State\", \"Taxonomy_Code\"\n",
    "        ]\n",
    "    },\n",
    "    # This is how you can optionally add a comment about this expectation.\n",
    "    # It will be rendered in Data Docs.\n",
    "    # See this guide for details:\n",
    "    # `How to add comments to Expectations and display them in Data Docs`.\n",
    "    meta={\n",
    "        \"notes\": {\n",
    "            \"format\": \"markdown\",\n",
    "            \"content\": \"Some clever comment about this expectation. **Markdown** `Supported`\"\n",
    "        }\n",
    "    }\n",
    ")\n",
    "# Add the Expectation to the suite\n",
    "suite.add_expectation(expectation_configuration=expectation_configuration)\n"
   ]
  },
  {
   "cell_type": "code",
   "execution_count": null,
   "metadata": {},
   "outputs": [],
   "source": [
    "context.save_expectation_suite(suite, suite_name)\n"
   ]
  }
 ],
 "metadata": {
  "interpreter": {
   "hash": "31f2aee4e71d21fbe5cf8b01ff0e069b9275f58929596ceb00d14d90e3e16cd6"
  },
  "kernelspec": {
   "display_name": "Python 3.8.2 64-bit",
   "name": "python3"
  },
  "language_info": {
   "name": "python",
   "version": ""
  },
  "orig_nbformat": 4
 },
 "nbformat": 4,
 "nbformat_minor": 2
}