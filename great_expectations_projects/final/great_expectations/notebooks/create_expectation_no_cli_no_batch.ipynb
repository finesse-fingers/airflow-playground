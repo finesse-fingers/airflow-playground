{
 "cells": [
  {
   "cell_type": "code",
   "execution_count": 9,
   "metadata": {},
   "outputs": [],
   "source": [
    "import great_expectations as ge\n",
    "from great_expectations.core import ExpectationConfiguration\n"
   ]
  },
  {
   "cell_type": "code",
   "execution_count": 10,
   "metadata": {},
   "outputs": [],
   "source": [
    "root_path = \"../\"\n",
    "context = ge.data_context.DataContext(context_root_dir=root_path)\n"
   ]
  },
  {
   "cell_type": "code",
   "execution_count": 11,
   "metadata": {},
   "outputs": [],
   "source": [
    "suite_name = 'npi_small_file.custom'\n",
    "suite = context.create_expectation_suite(\n",
    "    suite_name, overwrite_existing=True  # Configure these parameters for your needs\n",
    ")"
   ]
  },
  {
   "cell_type": "code",
   "execution_count": 12,
   "metadata": {},
   "outputs": [
    {
     "data": {
      "text/plain": [
       "[ExpectationSuiteIdentifier::state_abbreviations_file.critical,\n",
       " ExpectationSuiteIdentifier::count_providers_by_state.critical,\n",
       " ExpectationSuiteIdentifier::npi_small_file.custom,\n",
       " ExpectationSuiteIdentifier::npi_small_file.critical,\n",
       " ExpectationSuiteIdentifier::npi_small_db_table.critical]"
      ]
     },
     "execution_count": 12,
     "metadata": {},
     "output_type": "execute_result"
    }
   ],
   "source": [
    "context.list_expectation_suites()\n"
   ]
  },
  {
   "cell_type": "code",
   "execution_count": 13,
   "metadata": {},
   "outputs": [
    {
     "data": {
      "text/plain": [
       "{\"kwargs\": {\"column_list\": [\"NPI_WRONG\", \"Entity_Type_Code\", \"Organization_Name\", \"Last_Name\", \"First_Name\", \"State\", \"Taxonomy_Code\"]}, \"expectation_type\": \"expect_table_columns_to_match_ordered_list\", \"meta\": {\"notes\": {\"format\": \"markdown\", \"content\": \"Some clever comment about this expectation. **Markdown** `Supported`\"}}}"
      ]
     },
     "execution_count": 13,
     "metadata": {},
     "output_type": "execute_result"
    }
   ],
   "source": [
    "# Create an Expectation\n",
    "expectation_configuration = ExpectationConfiguration(\n",
    "    # Name of expectation type being added\n",
    "    expectation_type=\"expect_table_columns_to_match_ordered_list\",\n",
    "    # These are the arguments of the expectation\n",
    "    # The keys allowed in the dictionary are Parameters and\n",
    "    # Keyword Arguments of this Expectation Type\n",
    "    kwargs={\n",
    "        \"column_list\": [\n",
    "            \"NPI\", \"Entity_Type_Code\", \"Organization_Name\", \"Last_Name\", \"First_Name\", \"State\", \"Taxonomy_Code\"\n",
    "        ]\n",
    "    },\n",
    "    # This is how you can optionally add a comment about this expectation.\n",
    "    # It will be rendered in Data Docs.\n",
    "    # See this guide for details:\n",
    "    # `How to add comments to Expectations and display them in Data Docs`.\n",
    "    meta={\n",
    "        \"notes\": {\n",
    "            \"format\": \"markdown\",\n",
    "            \"content\": \"Some clever comment about this expectation. **Markdown** `Supported`\"\n",
    "        }\n",
    "    }\n",
    ")\n",
    "# Add the Expectation to the suite\n",
    "suite.add_expectation(expectation_configuration=expectation_configuration)\n"
   ]
  },
  {
   "cell_type": "code",
   "execution_count": 14,
   "metadata": {},
   "outputs": [],
   "source": [
    "context.save_expectation_suite(suite, suite_name)\n"
   ]
  }
 ],
 "metadata": {
  "interpreter": {
   "hash": "31f2aee4e71d21fbe5cf8b01ff0e069b9275f58929596ceb00d14d90e3e16cd6"
  },
  "kernelspec": {
   "display_name": "Python 3.8.2 64-bit",
   "name": "python3"
  },
  "language_info": {
   "codemirror_mode": {
    "name": "ipython",
    "version": 3
   },
   "file_extension": ".py",
   "mimetype": "text/x-python",
   "name": "python",
   "nbconvert_exporter": "python",
   "pygments_lexer": "ipython3",
   "version": "3.8.2"
  },
  "orig_nbformat": 4
 },
 "nbformat": 4,
 "nbformat_minor": 2
}